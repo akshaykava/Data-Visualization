{
 "cells": [
  {
   "cell_type": "markdown",
   "id": "7e77d7f9",
   "metadata": {
    "papermill": {
     "duration": 0.035763,
     "end_time": "2021-07-14T15:20:18.694073",
     "exception": false,
     "start_time": "2021-07-14T15:20:18.658310",
     "status": "completed"
    },
    "tags": []
   },
   "source": [
    "**This notebook is an exercise in the [Data Visualization](https://www.kaggle.com/learn/data-visualization) course.  You can reference the tutorial at [this link](https://www.kaggle.com/alexisbcook/scatter-plots).**\n",
    "\n",
    "---\n"
   ]
  },
  {
   "cell_type": "markdown",
   "id": "47447e62",
   "metadata": {
    "papermill": {
     "duration": 0.028907,
     "end_time": "2021-07-14T15:20:18.757979",
     "exception": false,
     "start_time": "2021-07-14T15:20:18.729072",
     "status": "completed"
    },
    "tags": []
   },
   "source": [
    "In this exercise, you will use your new knowledge to propose a solution to a real-world scenario.  To succeed, you will need to import data into Python, answer questions using the data, and generate **scatter plots** to understand patterns in the data.\n",
    "\n",
    "## Scenario\n",
    "\n",
    "You work for a major candy producer, and your goal is to write a report that your company can use to guide the design of its next product.  Soon after starting your research, you stumble across this [very interesting dataset](https://fivethirtyeight.com/features/the-ultimate-halloween-candy-power-ranking/) containing results from a fun survey to crowdsource favorite candies.\n",
    "\n",
    "## Setup\n",
    "\n",
    "Run the next cell to import and configure the Python libraries that you need to complete the exercise."
   ]
  },
  {
   "cell_type": "code",
   "execution_count": 1,
   "id": "69568039",
   "metadata": {
    "execution": {
     "iopub.execute_input": "2021-07-14T15:20:18.818221Z",
     "iopub.status.busy": "2021-07-14T15:20:18.817077Z",
     "iopub.status.idle": "2021-07-14T15:20:19.850790Z",
     "shell.execute_reply": "2021-07-14T15:20:19.849220Z",
     "shell.execute_reply.started": "2021-07-12T09:19:58.801874Z"
    },
    "papermill": {
     "duration": 1.06503,
     "end_time": "2021-07-14T15:20:19.851107",
     "exception": false,
     "start_time": "2021-07-14T15:20:18.786077",
     "status": "completed"
    },
    "tags": []
   },
   "outputs": [
    {
     "name": "stdout",
     "output_type": "stream",
     "text": [
      "Setup Complete\n"
     ]
    }
   ],
   "source": [
    "import pandas as pd\n",
    "pd.plotting.register_matplotlib_converters()\n",
    "import matplotlib.pyplot as plt\n",
    "%matplotlib inline\n",
    "import seaborn as sns\n",
    "print(\"Setup Complete\")"
   ]
  },
  {
   "cell_type": "markdown",
   "id": "ba98e4f9",
   "metadata": {
    "papermill": {
     "duration": 0.02805,
     "end_time": "2021-07-14T15:20:19.908556",
     "exception": false,
     "start_time": "2021-07-14T15:20:19.880506",
     "status": "completed"
    },
    "tags": []
   },
   "source": [
    "The questions below will give you feedback on your work. Run the following cell to set up our feedback system."
   ]
  },
  {
   "cell_type": "code",
   "execution_count": 2,
   "id": "388d6c45",
   "metadata": {
    "execution": {
     "iopub.execute_input": "2021-07-14T15:20:19.971699Z",
     "iopub.status.busy": "2021-07-14T15:20:19.971050Z",
     "iopub.status.idle": "2021-07-14T15:20:20.047606Z",
     "shell.execute_reply": "2021-07-14T15:20:20.046888Z",
     "shell.execute_reply.started": "2021-07-12T09:19:59.829153Z"
    },
    "papermill": {
     "duration": 0.110569,
     "end_time": "2021-07-14T15:20:20.047750",
     "exception": false,
     "start_time": "2021-07-14T15:20:19.937181",
     "status": "completed"
    },
    "tags": []
   },
   "outputs": [
    {
     "name": "stdout",
     "output_type": "stream",
     "text": [
      "Setup Complete\n"
     ]
    }
   ],
   "source": [
    "# Set up code checking\n",
    "import os\n",
    "if not os.path.exists(\"../input/candy.csv\"):\n",
    "    os.symlink(\"../input/data-for-datavis/candy.csv\", \"../input/candy.csv\") \n",
    "from learntools.core import binder\n",
    "binder.bind(globals())\n",
    "from learntools.data_viz_to_coder.ex4 import *\n",
    "print(\"Setup Complete\")"
   ]
  },
  {
   "cell_type": "markdown",
   "id": "5284b910",
   "metadata": {
    "papermill": {
     "duration": 0.029358,
     "end_time": "2021-07-14T15:20:20.106133",
     "exception": false,
     "start_time": "2021-07-14T15:20:20.076775",
     "status": "completed"
    },
    "tags": []
   },
   "source": [
    "## Step 1: Load the Data\n",
    "\n",
    "Read the candy data file into `candy_data`.  Use the `\"id\"` column to label the rows."
   ]
  },
  {
   "cell_type": "code",
   "execution_count": 3,
   "id": "39dc98e4",
   "metadata": {
    "execution": {
     "iopub.execute_input": "2021-07-14T15:20:20.168456Z",
     "iopub.status.busy": "2021-07-14T15:20:20.167824Z",
     "iopub.status.idle": "2021-07-14T15:20:20.180986Z",
     "shell.execute_reply": "2021-07-14T15:20:20.181538Z",
     "shell.execute_reply.started": "2021-07-12T09:21:00.594053Z"
    },
    "papermill": {
     "duration": 0.046999,
     "end_time": "2021-07-14T15:20:20.181718",
     "exception": false,
     "start_time": "2021-07-14T15:20:20.134719",
     "status": "completed"
    },
    "tags": []
   },
   "outputs": [
    {
     "data": {
      "application/javascript": [
       "parent.postMessage({\"jupyterEvent\": \"custom.exercise_interaction\", \"data\": {\"outcomeType\": 1, \"valueTowardsCompletion\": 0.3333333333333333, \"interactionType\": 1, \"questionType\": 1, \"questionId\": \"1_LoadData\", \"learnToolsVersion\": \"0.3.4\", \"failureMessage\": \"\", \"exceptionClass\": \"\", \"trace\": \"\"}}, \"*\")"
      ],
      "text/plain": [
       "<IPython.core.display.Javascript object>"
      ]
     },
     "metadata": {},
     "output_type": "display_data"
    },
    {
     "data": {
      "text/markdown": [
       "<span style=\"color:#33cc33\">Correct</span>"
      ],
      "text/plain": [
       "Correct"
      ]
     },
     "metadata": {},
     "output_type": "display_data"
    }
   ],
   "source": [
    "# Path of the file to read\n",
    "candy_filepath = \"../input/candy.csv\"\n",
    "\n",
    "# Fill in the line below to read the file into a variable candy_data\n",
    "candy_data = pd.read_csv(candy_filepath,index_col='id')\n",
    "\n",
    "# Run the line below with no changes to check that you've loaded the data correctly\n",
    "step_1.check()"
   ]
  },
  {
   "cell_type": "code",
   "execution_count": 4,
   "id": "0288248f",
   "metadata": {
    "execution": {
     "iopub.execute_input": "2021-07-14T15:20:20.245609Z",
     "iopub.status.busy": "2021-07-14T15:20:20.244930Z",
     "iopub.status.idle": "2021-07-14T15:20:20.247014Z",
     "shell.execute_reply": "2021-07-14T15:20:20.247463Z",
     "shell.execute_reply.started": "2021-07-12T09:21:05.539285Z"
    },
    "papermill": {
     "duration": 0.036187,
     "end_time": "2021-07-14T15:20:20.247654",
     "exception": false,
     "start_time": "2021-07-14T15:20:20.211467",
     "status": "completed"
    },
    "tags": []
   },
   "outputs": [],
   "source": [
    "# Lines below will give you a hint or solution code\n",
    "#step_1.hint()\n",
    "#step_1.solution()"
   ]
  },
  {
   "cell_type": "markdown",
   "id": "1bcd8aa2",
   "metadata": {
    "papermill": {
     "duration": 0.030576,
     "end_time": "2021-07-14T15:20:20.308243",
     "exception": false,
     "start_time": "2021-07-14T15:20:20.277667",
     "status": "completed"
    },
    "tags": []
   },
   "source": [
    "## Step 2: Review the data\n",
    "\n",
    "Use a Python command to print the first five rows of the data."
   ]
  },
  {
   "cell_type": "code",
   "execution_count": 5,
   "id": "333a6475",
   "metadata": {
    "execution": {
     "iopub.execute_input": "2021-07-14T15:20:20.372992Z",
     "iopub.status.busy": "2021-07-14T15:20:20.372269Z",
     "iopub.status.idle": "2021-07-14T15:20:20.398403Z",
     "shell.execute_reply": "2021-07-14T15:20:20.399068Z",
     "shell.execute_reply.started": "2021-07-12T09:21:18.93968Z"
    },
    "papermill": {
     "duration": 0.059311,
     "end_time": "2021-07-14T15:20:20.399263",
     "exception": false,
     "start_time": "2021-07-14T15:20:20.339952",
     "status": "completed"
    },
    "tags": []
   },
   "outputs": [
    {
     "data": {
      "text/html": [
       "<div>\n",
       "<style scoped>\n",
       "    .dataframe tbody tr th:only-of-type {\n",
       "        vertical-align: middle;\n",
       "    }\n",
       "\n",
       "    .dataframe tbody tr th {\n",
       "        vertical-align: top;\n",
       "    }\n",
       "\n",
       "    .dataframe thead th {\n",
       "        text-align: right;\n",
       "    }\n",
       "</style>\n",
       "<table border=\"1\" class=\"dataframe\">\n",
       "  <thead>\n",
       "    <tr style=\"text-align: right;\">\n",
       "      <th></th>\n",
       "      <th>competitorname</th>\n",
       "      <th>chocolate</th>\n",
       "      <th>fruity</th>\n",
       "      <th>caramel</th>\n",
       "      <th>peanutyalmondy</th>\n",
       "      <th>nougat</th>\n",
       "      <th>crispedricewafer</th>\n",
       "      <th>hard</th>\n",
       "      <th>bar</th>\n",
       "      <th>pluribus</th>\n",
       "      <th>sugarpercent</th>\n",
       "      <th>pricepercent</th>\n",
       "      <th>winpercent</th>\n",
       "    </tr>\n",
       "    <tr>\n",
       "      <th>id</th>\n",
       "      <th></th>\n",
       "      <th></th>\n",
       "      <th></th>\n",
       "      <th></th>\n",
       "      <th></th>\n",
       "      <th></th>\n",
       "      <th></th>\n",
       "      <th></th>\n",
       "      <th></th>\n",
       "      <th></th>\n",
       "      <th></th>\n",
       "      <th></th>\n",
       "      <th></th>\n",
       "    </tr>\n",
       "  </thead>\n",
       "  <tbody>\n",
       "    <tr>\n",
       "      <th>0</th>\n",
       "      <td>100 Grand</td>\n",
       "      <td>Yes</td>\n",
       "      <td>No</td>\n",
       "      <td>Yes</td>\n",
       "      <td>No</td>\n",
       "      <td>No</td>\n",
       "      <td>Yes</td>\n",
       "      <td>No</td>\n",
       "      <td>Yes</td>\n",
       "      <td>No</td>\n",
       "      <td>0.732</td>\n",
       "      <td>0.860</td>\n",
       "      <td>66.971725</td>\n",
       "    </tr>\n",
       "    <tr>\n",
       "      <th>1</th>\n",
       "      <td>3 Musketeers</td>\n",
       "      <td>Yes</td>\n",
       "      <td>No</td>\n",
       "      <td>No</td>\n",
       "      <td>No</td>\n",
       "      <td>Yes</td>\n",
       "      <td>No</td>\n",
       "      <td>No</td>\n",
       "      <td>Yes</td>\n",
       "      <td>No</td>\n",
       "      <td>0.604</td>\n",
       "      <td>0.511</td>\n",
       "      <td>67.602936</td>\n",
       "    </tr>\n",
       "    <tr>\n",
       "      <th>2</th>\n",
       "      <td>Air Heads</td>\n",
       "      <td>No</td>\n",
       "      <td>Yes</td>\n",
       "      <td>No</td>\n",
       "      <td>No</td>\n",
       "      <td>No</td>\n",
       "      <td>No</td>\n",
       "      <td>No</td>\n",
       "      <td>No</td>\n",
       "      <td>No</td>\n",
       "      <td>0.906</td>\n",
       "      <td>0.511</td>\n",
       "      <td>52.341465</td>\n",
       "    </tr>\n",
       "    <tr>\n",
       "      <th>3</th>\n",
       "      <td>Almond Joy</td>\n",
       "      <td>Yes</td>\n",
       "      <td>No</td>\n",
       "      <td>No</td>\n",
       "      <td>Yes</td>\n",
       "      <td>No</td>\n",
       "      <td>No</td>\n",
       "      <td>No</td>\n",
       "      <td>Yes</td>\n",
       "      <td>No</td>\n",
       "      <td>0.465</td>\n",
       "      <td>0.767</td>\n",
       "      <td>50.347546</td>\n",
       "    </tr>\n",
       "    <tr>\n",
       "      <th>4</th>\n",
       "      <td>Baby Ruth</td>\n",
       "      <td>Yes</td>\n",
       "      <td>No</td>\n",
       "      <td>Yes</td>\n",
       "      <td>Yes</td>\n",
       "      <td>Yes</td>\n",
       "      <td>No</td>\n",
       "      <td>No</td>\n",
       "      <td>Yes</td>\n",
       "      <td>No</td>\n",
       "      <td>0.604</td>\n",
       "      <td>0.767</td>\n",
       "      <td>56.914547</td>\n",
       "    </tr>\n",
       "  </tbody>\n",
       "</table>\n",
       "</div>"
      ],
      "text/plain": [
       "   competitorname chocolate fruity caramel peanutyalmondy nougat  \\\n",
       "id                                                                 \n",
       "0       100 Grand       Yes     No     Yes             No     No   \n",
       "1    3 Musketeers       Yes     No      No             No    Yes   \n",
       "2       Air Heads        No    Yes      No             No     No   \n",
       "3      Almond Joy       Yes     No      No            Yes     No   \n",
       "4       Baby Ruth       Yes     No     Yes            Yes    Yes   \n",
       "\n",
       "   crispedricewafer hard  bar pluribus  sugarpercent  pricepercent  winpercent  \n",
       "id                                                                              \n",
       "0               Yes   No  Yes       No         0.732         0.860   66.971725  \n",
       "1                No   No  Yes       No         0.604         0.511   67.602936  \n",
       "2                No   No   No       No         0.906         0.511   52.341465  \n",
       "3                No   No  Yes       No         0.465         0.767   50.347546  \n",
       "4                No   No  Yes       No         0.604         0.767   56.914547  "
      ]
     },
     "execution_count": 5,
     "metadata": {},
     "output_type": "execute_result"
    }
   ],
   "source": [
    "# Print the first five rows of the data\n",
    "candy_data.head() # Your code here"
   ]
  },
  {
   "cell_type": "markdown",
   "id": "1461ae45",
   "metadata": {
    "papermill": {
     "duration": 0.030193,
     "end_time": "2021-07-14T15:20:20.463226",
     "exception": false,
     "start_time": "2021-07-14T15:20:20.433033",
     "status": "completed"
    },
    "tags": []
   },
   "source": [
    "The dataset contains 83 rows, where each corresponds to a different candy bar.  There are 13 columns:\n",
    "- `'competitorname'` contains the name of the candy bar. \n",
    "- the next **9** columns (from `'chocolate'` to `'pluribus'`) describe the candy.  For instance, rows with chocolate candies have `\"Yes\"` in the `'chocolate'` column (and candies without chocolate have `\"No\"` in the same column).\n",
    "- `'sugarpercent'` provides some indication of the amount of sugar, where higher values signify higher sugar content.\n",
    "- `'pricepercent'` shows the price per unit, relative to the other candies in the dataset.\n",
    "- `'winpercent'` is calculated from the survey results; higher values indicate that the candy was more popular with survey respondents.\n",
    "\n",
    "Use the first five rows of the data to answer the questions below."
   ]
  },
  {
   "cell_type": "code",
   "execution_count": 6,
   "id": "064d8763",
   "metadata": {
    "execution": {
     "iopub.execute_input": "2021-07-14T15:20:20.528859Z",
     "iopub.status.busy": "2021-07-14T15:20:20.528212Z",
     "iopub.status.idle": "2021-07-14T15:20:20.537584Z",
     "shell.execute_reply": "2021-07-14T15:20:20.537031Z",
     "shell.execute_reply.started": "2021-07-12T09:23:24.782425Z"
    },
    "papermill": {
     "duration": 0.042697,
     "end_time": "2021-07-14T15:20:20.537759",
     "exception": false,
     "start_time": "2021-07-14T15:20:20.495062",
     "status": "completed"
    },
    "tags": []
   },
   "outputs": [
    {
     "data": {
      "application/javascript": [
       "parent.postMessage({\"jupyterEvent\": \"custom.exercise_interaction\", \"data\": {\"outcomeType\": 1, \"valueTowardsCompletion\": 0.3333333333333333, \"interactionType\": 1, \"questionType\": 1, \"questionId\": \"2_ReviewData\", \"learnToolsVersion\": \"0.3.4\", \"failureMessage\": \"\", \"exceptionClass\": \"\", \"trace\": \"\"}}, \"*\")"
      ],
      "text/plain": [
       "<IPython.core.display.Javascript object>"
      ]
     },
     "metadata": {},
     "output_type": "display_data"
    },
    {
     "data": {
      "text/markdown": [
       "<span style=\"color:#33cc33\">Correct</span>"
      ],
      "text/plain": [
       "Correct"
      ]
     },
     "metadata": {},
     "output_type": "display_data"
    }
   ],
   "source": [
    "# Fill in the line below: Which candy was more popular with survey respondents:\n",
    "# '3 Musketeers' or 'Almond Joy'?  (Please enclose your answer in single quotes.)\n",
    "more_popular = '3 Musketeers'\n",
    "\n",
    "# Fill in the line below: Which candy has higher sugar content: 'Air Heads'\n",
    "# or 'Baby Ruth'? (Please enclose your answer in single quotes.)\n",
    "more_sugar = 'Air Heads'\n",
    "\n",
    "# Check your answers\n",
    "step_2.check()"
   ]
  },
  {
   "cell_type": "code",
   "execution_count": 7,
   "id": "f65fdac0",
   "metadata": {
    "execution": {
     "iopub.execute_input": "2021-07-14T15:20:20.609655Z",
     "iopub.status.busy": "2021-07-14T15:20:20.608956Z",
     "iopub.status.idle": "2021-07-14T15:20:20.612244Z",
     "shell.execute_reply": "2021-07-14T15:20:20.611748Z",
     "shell.execute_reply.started": "2021-07-12T09:23:28.048905Z"
    },
    "papermill": {
     "duration": 0.040551,
     "end_time": "2021-07-14T15:20:20.612387",
     "exception": false,
     "start_time": "2021-07-14T15:20:20.571836",
     "status": "completed"
    },
    "tags": []
   },
   "outputs": [],
   "source": [
    "# Lines below will give you a hint or solution code\n",
    "#step_2.hint()\n",
    "#step_2.solution()"
   ]
  },
  {
   "cell_type": "markdown",
   "id": "78f6f8b6",
   "metadata": {
    "papermill": {
     "duration": 0.039891,
     "end_time": "2021-07-14T15:20:20.683670",
     "exception": false,
     "start_time": "2021-07-14T15:20:20.643779",
     "status": "completed"
    },
    "tags": []
   },
   "source": [
    "## Step 3: The role of sugar\n",
    "\n",
    "Do people tend to prefer candies with higher sugar content?  \n",
    "\n",
    "#### Part A\n",
    "\n",
    "Create a scatter plot that shows the relationship between `'sugarpercent'` (on the horizontal x-axis) and `'winpercent'` (on the vertical y-axis).  _Don't add a regression line just yet -- you'll do that in the next step!_"
   ]
  },
  {
   "cell_type": "code",
   "execution_count": 8,
   "id": "8d00bae1",
   "metadata": {
    "execution": {
     "iopub.execute_input": "2021-07-14T15:20:20.772505Z",
     "iopub.status.busy": "2021-07-14T15:20:20.771346Z",
     "iopub.status.idle": "2021-07-14T15:20:21.028737Z",
     "shell.execute_reply": "2021-07-14T15:20:21.029316Z",
     "shell.execute_reply.started": "2021-07-12T09:24:40.944736Z"
    },
    "papermill": {
     "duration": 0.305824,
     "end_time": "2021-07-14T15:20:21.029489",
     "exception": false,
     "start_time": "2021-07-14T15:20:20.723665",
     "status": "completed"
    },
    "tags": []
   },
   "outputs": [
    {
     "data": {
      "application/javascript": [
       "parent.postMessage({\"jupyterEvent\": \"custom.exercise_interaction\", \"data\": {\"outcomeType\": 1, \"valueTowardsCompletion\": 0.3333333333333333, \"interactionType\": 1, \"questionType\": 2, \"questionId\": \"3.1_PlotBlueScatter\", \"learnToolsVersion\": \"0.3.4\", \"failureMessage\": \"\", \"exceptionClass\": \"\", \"trace\": \"\"}}, \"*\")"
      ],
      "text/plain": [
       "<IPython.core.display.Javascript object>"
      ]
     },
     "metadata": {},
     "output_type": "display_data"
    },
    {
     "data": {
      "text/markdown": [
       "<span style=\"color:#33cc33\">Correct</span>"
      ],
      "text/plain": [
       "Correct"
      ]
     },
     "metadata": {},
     "output_type": "display_data"
    },
    {
     "data": {
      "image/png": "[encoded data removed]",
      "text/plain": [
       "<Figure size 432x288 with 1 Axes>"
      ]
     },
     "metadata": {
      "needs_background": "light"
     },
     "output_type": "display_data"
    }
   ],
   "source": [
    "# Scatter plot showing the relationship between 'sugarpercent' and 'winpercent'\n",
    "sns.scatterplot(x=candy_data['sugarpercent'], y=candy_data['winpercent']) # Your code here\n",
    "\n",
    "# Check your answer\n",
    "step_3.a.check()"
   ]
  },
  {
   "cell_type": "code",
   "execution_count": 9,
   "id": "5fca2ed7",
   "metadata": {
    "execution": {
     "iopub.execute_input": "2021-07-14T15:20:21.099767Z",
     "iopub.status.busy": "2021-07-14T15:20:21.098771Z",
     "iopub.status.idle": "2021-07-14T15:20:21.102248Z",
     "shell.execute_reply": "2021-07-14T15:20:21.102794Z",
     "shell.execute_reply.started": "2021-07-12T09:24:45.430361Z"
    },
    "papermill": {
     "duration": 0.040023,
     "end_time": "2021-07-14T15:20:21.102959",
     "exception": false,
     "start_time": "2021-07-14T15:20:21.062936",
     "status": "completed"
    },
    "tags": []
   },
   "outputs": [],
   "source": [
    "# Lines below will give you a hint or solution code\n",
    "#step_3.a.hint()\n",
    "#step_3.a.solution_plot()"
   ]
  },
  {
   "cell_type": "markdown",
   "id": "9dfcafb7",
   "metadata": {
    "papermill": {
     "duration": 0.032819,
     "end_time": "2021-07-14T15:20:21.169430",
     "exception": false,
     "start_time": "2021-07-14T15:20:21.136611",
     "status": "completed"
    },
    "tags": []
   },
   "source": [
    "#### Part B\n",
    "\n",
    "Does the scatter plot show a **strong** correlation between the two variables?  If so, are candies with more sugar relatively more or less popular with the survey respondents?"
   ]
  },
  {
   "cell_type": "code",
   "execution_count": 10,
   "id": "4a5eade9",
   "metadata": {
    "execution": {
     "iopub.execute_input": "2021-07-14T15:20:21.239373Z",
     "iopub.status.busy": "2021-07-14T15:20:21.238414Z",
     "iopub.status.idle": "2021-07-14T15:20:21.242503Z",
     "shell.execute_reply": "2021-07-14T15:20:21.243014Z",
     "shell.execute_reply.started": "2021-07-12T09:24:52.331409Z"
    },
    "papermill": {
     "duration": 0.040729,
     "end_time": "2021-07-14T15:20:21.243181",
     "exception": false,
     "start_time": "2021-07-14T15:20:21.202452",
     "status": "completed"
    },
    "tags": []
   },
   "outputs": [],
   "source": [
    "#step_3.b.hint()"
   ]
  },
  {
   "cell_type": "code",
   "execution_count": 11,
   "id": "d4b20c8b",
   "metadata": {
    "execution": {
     "iopub.execute_input": "2021-07-14T15:20:21.312980Z",
     "iopub.status.busy": "2021-07-14T15:20:21.311988Z",
     "iopub.status.idle": "2021-07-14T15:20:21.319322Z",
     "shell.execute_reply": "2021-07-14T15:20:21.319825Z",
     "shell.execute_reply.started": "2021-07-12T09:24:53.150765Z"
    },
    "papermill": {
     "duration": 0.043733,
     "end_time": "2021-07-14T15:20:21.320013",
     "exception": false,
     "start_time": "2021-07-14T15:20:21.276280",
     "status": "completed"
    },
    "tags": []
   },
   "outputs": [
    {
     "data": {
      "application/javascript": [
       "parent.postMessage({\"jupyterEvent\": \"custom.exercise_interaction\", \"data\": {\"interactionType\": 3, \"questionType\": 4, \"questionId\": \"3.2_ThinkBlueScatter\", \"learnToolsVersion\": \"0.3.4\", \"valueTowardsCompletion\": 0.0, \"failureMessage\": \"\", \"exceptionClass\": \"\", \"trace\": \"\", \"outcomeType\": 4}}, \"*\")"
      ],
      "text/plain": [
       "<IPython.core.display.Javascript object>"
      ]
     },
     "metadata": {},
     "output_type": "display_data"
    },
    {
     "data": {
      "text/markdown": [
       "<span style=\"color:#33cc99\">Solution:</span> The scatter plot does not show a strong correlation between the two variables. Since there is no clear relationship between the two variables, this tells us that sugar content does not play a strong role in candy popularity."
      ],
      "text/plain": [
       "Solution: The scatter plot does not show a strong correlation between the two variables. Since there is no clear relationship between the two variables, this tells us that sugar content does not play a strong role in candy popularity."
      ]
     },
     "metadata": {},
     "output_type": "display_data"
    }
   ],
   "source": [
    "# Check your answer (Run this code cell to receive credit!)\n",
    "step_3.b.solution()"
   ]
  },
  {
   "cell_type": "markdown",
   "id": "a0ee2be9",
   "metadata": {
    "papermill": {
     "duration": 0.033952,
     "end_time": "2021-07-14T15:20:21.389013",
     "exception": false,
     "start_time": "2021-07-14T15:20:21.355061",
     "status": "completed"
    },
    "tags": []
   },
   "source": [
    "## Step 4: Take a closer look\n",
    "\n",
    "#### Part A\n",
    "\n",
    "Create the same scatter plot you created in **Step 3**, but now with a regression line!"
   ]
  },
  {
   "cell_type": "code",
   "execution_count": 12,
   "id": "70052fc5",
   "metadata": {
    "execution": {
     "iopub.execute_input": "2021-07-14T15:20:21.461182Z",
     "iopub.status.busy": "2021-07-14T15:20:21.460200Z",
     "iopub.status.idle": "2021-07-14T15:20:21.784610Z",
     "shell.execute_reply": "2021-07-14T15:20:21.783969Z",
     "shell.execute_reply.started": "2021-07-12T09:25:46.41586Z"
    },
    "papermill": {
     "duration": 0.361582,
     "end_time": "2021-07-14T15:20:21.784752",
     "exception": false,
     "start_time": "2021-07-14T15:20:21.423170",
     "status": "completed"
    },
    "tags": []
   },
   "outputs": [
    {
     "data": {
      "application/javascript": [
       "parent.postMessage({\"jupyterEvent\": \"custom.exercise_interaction\", \"data\": {\"outcomeType\": 1, \"valueTowardsCompletion\": 0.3333333333333333, \"interactionType\": 1, \"questionType\": 2, \"questionId\": \"4.1_PlotBlueReg\", \"learnToolsVersion\": \"0.3.4\", \"failureMessage\": \"\", \"exceptionClass\": \"\", \"trace\": \"\"}}, \"*\")"
      ],
      "text/plain": [
       "<IPython.core.display.Javascript object>"
      ]
     },
     "metadata": {},
     "output_type": "display_data"
    },
    {
     "data": {
      "text/markdown": [
       "<span style=\"color:#33cc33\">Correct</span>"
      ],
      "text/plain": [
       "Correct"
      ]
     },
     "metadata": {},
     "output_type": "display_data"
    },
    {
     "data": {
      "image/png": "[encoded data removed]",
      "text/plain": [
       "<Figure size 432x288 with 1 Axes>"
      ]
     },
     "metadata": {
      "needs_background": "light"
     },
     "output_type": "display_data"
    }
   ],
   "source": [
    "# Scatter plot w/ regression line showing the relationship between 'sugarpercent' and 'winpercent'\n",
    "sns.regplot(x=candy_data['sugarpercent'], y=candy_data['winpercent']) # Your code here\n",
    "\n",
    "# Check your answer\n",
    "step_4.a.check()"
   ]
  },
  {
   "cell_type": "code",
   "execution_count": 13,
   "id": "e6a70e25",
   "metadata": {
    "execution": {
     "iopub.execute_input": "2021-07-14T15:20:21.861473Z",
     "iopub.status.busy": "2021-07-14T15:20:21.860822Z",
     "iopub.status.idle": "2021-07-14T15:20:21.862752Z",
     "shell.execute_reply": "2021-07-14T15:20:21.863217Z",
     "shell.execute_reply.started": "2021-07-12T09:25:52.068481Z"
    },
    "papermill": {
     "duration": 0.042549,
     "end_time": "2021-07-14T15:20:21.863389",
     "exception": false,
     "start_time": "2021-07-14T15:20:21.820840",
     "status": "completed"
    },
    "tags": []
   },
   "outputs": [],
   "source": [
    "# Lines below will give you a hint or solution code\n",
    "#step_4.a.hint()\n",
    "#step_4.a.solution_plot()"
   ]
  },
  {
   "cell_type": "markdown",
   "id": "1a9b217c",
   "metadata": {
    "papermill": {
     "duration": 0.036247,
     "end_time": "2021-07-14T15:20:21.936267",
     "exception": false,
     "start_time": "2021-07-14T15:20:21.900020",
     "status": "completed"
    },
    "tags": []
   },
   "source": [
    "#### Part B\n",
    "\n",
    "According to the plot above, is there a **slight** correlation between `'winpercent'` and `'sugarpercent'`?  What does this tell you about the candy that people tend to prefer?"
   ]
  },
  {
   "cell_type": "code",
   "execution_count": 14,
   "id": "4e005a65",
   "metadata": {
    "execution": {
     "iopub.execute_input": "2021-07-14T15:20:22.010954Z",
     "iopub.status.busy": "2021-07-14T15:20:22.010310Z",
     "iopub.status.idle": "2021-07-14T15:20:22.013169Z",
     "shell.execute_reply": "2021-07-14T15:20:22.013649Z",
     "shell.execute_reply.started": "2021-07-12T09:26:02.278965Z"
    },
    "papermill": {
     "duration": 0.041588,
     "end_time": "2021-07-14T15:20:22.013805",
     "exception": false,
     "start_time": "2021-07-14T15:20:21.972217",
     "status": "completed"
    },
    "tags": []
   },
   "outputs": [],
   "source": [
    "#step_4.b.hint()"
   ]
  },
  {
   "cell_type": "code",
   "execution_count": 15,
   "id": "2731a028",
   "metadata": {
    "execution": {
     "iopub.execute_input": "2021-07-14T15:20:22.090656Z",
     "iopub.status.busy": "2021-07-14T15:20:22.089989Z",
     "iopub.status.idle": "2021-07-14T15:20:22.096023Z",
     "shell.execute_reply": "2021-07-14T15:20:22.096466Z",
     "shell.execute_reply.started": "2021-07-12T09:26:03.326107Z"
    },
    "papermill": {
     "duration": 0.045568,
     "end_time": "2021-07-14T15:20:22.096660",
     "exception": false,
     "start_time": "2021-07-14T15:20:22.051092",
     "status": "completed"
    },
    "tags": []
   },
   "outputs": [
    {
     "data": {
      "application/javascript": [
       "parent.postMessage({\"jupyterEvent\": \"custom.exercise_interaction\", \"data\": {\"interactionType\": 3, \"questionType\": 4, \"questionId\": \"4.2_ThinkBlueReg\", \"learnToolsVersion\": \"0.3.4\", \"valueTowardsCompletion\": 0.0, \"failureMessage\": \"\", \"exceptionClass\": \"\", \"trace\": \"\", \"outcomeType\": 4}}, \"*\")"
      ],
      "text/plain": [
       "<IPython.core.display.Javascript object>"
      ]
     },
     "metadata": {},
     "output_type": "display_data"
    },
    {
     "data": {
      "text/markdown": [
       "<span style=\"color:#33cc99\">Solution:</span> Since the regression line has a slightly positive slope, this tells us that there is a slightly positive correlation between `'winpercent'` and `'sugarpercent'`. Thus, people have a slight preference for candies containing relatively more sugar."
      ],
      "text/plain": [
       "Solution: Since the regression line has a slightly positive slope, this tells us that there is a slightly positive correlation between `'winpercent'` and `'sugarpercent'`. Thus, people have a slight preference for candies containing relatively more sugar."
      ]
     },
     "metadata": {},
     "output_type": "display_data"
    }
   ],
   "source": [
    "# Check your answer (Run this code cell to receive credit!)\n",
    "step_4.b.solution()"
   ]
  },
  {
   "cell_type": "markdown",
   "id": "bcb240a2",
   "metadata": {
    "papermill": {
     "duration": 0.036608,
     "end_time": "2021-07-14T15:20:22.170310",
     "exception": false,
     "start_time": "2021-07-14T15:20:22.133702",
     "status": "completed"
    },
    "tags": []
   },
   "source": [
    "## Step 5: Chocolate!\n",
    "\n",
    "In the code cell below, create a scatter plot to show the relationship between `'pricepercent'` (on the horizontal x-axis) and `'winpercent'` (on the vertical y-axis). Use the `'chocolate'` column to color-code the points.  _Don't add any regression lines just yet -- you'll do that in the next step!_"
   ]
  },
  {
   "cell_type": "code",
   "execution_count": 16,
   "id": "28b2979a",
   "metadata": {
    "execution": {
     "iopub.execute_input": "2021-07-14T15:20:22.249052Z",
     "iopub.status.busy": "2021-07-14T15:20:22.248395Z",
     "iopub.status.idle": "2021-07-14T15:20:22.451179Z",
     "shell.execute_reply": "2021-07-14T15:20:22.450612Z",
     "shell.execute_reply.started": "2021-07-12T09:26:54.316988Z"
    },
    "papermill": {
     "duration": 0.243579,
     "end_time": "2021-07-14T15:20:22.451318",
     "exception": false,
     "start_time": "2021-07-14T15:20:22.207739",
     "status": "completed"
    },
    "tags": []
   },
   "outputs": [
    {
     "data": {
      "application/javascript": [
       "parent.postMessage({\"jupyterEvent\": \"custom.exercise_interaction\", \"data\": {\"outcomeType\": 1, \"valueTowardsCompletion\": 0.3333333333333333, \"interactionType\": 1, \"questionType\": 2, \"questionId\": \"5_ColorScatter\", \"learnToolsVersion\": \"0.3.4\", \"failureMessage\": \"\", \"exceptionClass\": \"\", \"trace\": \"\"}}, \"*\")"
      ],
      "text/plain": [
       "<IPython.core.display.Javascript object>"
      ]
     },
     "metadata": {},
     "output_type": "display_data"
    },
    {
     "data": {
      "text/markdown": [
       "<span style=\"color:#33cc33\">Correct</span>"
      ],
      "text/plain": [
       "Correct"
      ]
     },
     "metadata": {},
     "output_type": "display_data"
    },
    {
     "data": {
      "image/png": "[encoded data removed]",
      "text/plain": [
       "<Figure size 432x288 with 1 Axes>"
      ]
     },
     "metadata": {
      "needs_background": "light"
     },
     "output_type": "display_data"
    }
   ],
   "source": [
    "# Scatter plot showing the relationship between 'pricepercent', 'winpercent', and 'chocolate'\n",
    "sns.scatterplot(x=candy_data['pricepercent'], y=candy_data['winpercent']) # Your code here\n",
    "\n",
    "# Check your answer\n",
    "step_5.check()"
   ]
  },
  {
   "cell_type": "code",
   "execution_count": 17,
   "id": "d9c6b169",
   "metadata": {
    "execution": {
     "iopub.execute_input": "2021-07-14T15:20:22.537225Z",
     "iopub.status.busy": "2021-07-14T15:20:22.536423Z",
     "iopub.status.idle": "2021-07-14T15:20:22.539629Z",
     "shell.execute_reply": "2021-07-14T15:20:22.538981Z",
     "shell.execute_reply.started": "2021-07-12T09:27:06.376849Z"
    },
    "papermill": {
     "duration": 0.04732,
     "end_time": "2021-07-14T15:20:22.539800",
     "exception": false,
     "start_time": "2021-07-14T15:20:22.492480",
     "status": "completed"
    },
    "tags": []
   },
   "outputs": [],
   "source": [
    "# Lines below will give you a hint or solution code\n",
    "#step_5.hint()\n",
    "#step_5.solution_plot()"
   ]
  },
  {
   "cell_type": "markdown",
   "id": "6be2b3a5",
   "metadata": {
    "papermill": {
     "duration": 0.03854,
     "end_time": "2021-07-14T15:20:22.617675",
     "exception": false,
     "start_time": "2021-07-14T15:20:22.579135",
     "status": "completed"
    },
    "tags": []
   },
   "source": [
    "Can you see any interesting patterns in the scatter plot?  We'll investigate this plot further  by adding regression lines in the next step!\n",
    "\n",
    "## Step 6: Investigate chocolate\n",
    "\n",
    "#### Part A\n",
    "\n",
    "Create the same scatter plot you created in **Step 5**, but now with two regression lines, corresponding to (1) chocolate candies and (2) candies without chocolate."
   ]
  },
  {
   "cell_type": "code",
   "execution_count": 18,
   "id": "6a92dd12",
   "metadata": {
    "execution": {
     "iopub.execute_input": "2021-07-14T15:20:22.698348Z",
     "iopub.status.busy": "2021-07-14T15:20:22.697670Z",
     "iopub.status.idle": "2021-07-14T15:20:23.402685Z",
     "shell.execute_reply": "2021-07-14T15:20:23.403241Z",
     "shell.execute_reply.started": "2021-07-12T09:28:17.89763Z"
    },
    "papermill": {
     "duration": 0.746888,
     "end_time": "2021-07-14T15:20:23.403414",
     "exception": false,
     "start_time": "2021-07-14T15:20:22.656526",
     "status": "completed"
    },
    "tags": []
   },
   "outputs": [
    {
     "data": {
      "application/javascript": [
       "parent.postMessage({\"jupyterEvent\": \"custom.exercise_interaction\", \"data\": {\"outcomeType\": 1, \"valueTowardsCompletion\": 0.3333333333333333, \"interactionType\": 1, \"questionType\": 2, \"questionId\": \"6.1_PlotColorReg\", \"learnToolsVersion\": \"0.3.4\", \"failureMessage\": \"\", \"exceptionClass\": \"\", \"trace\": \"\"}}, \"*\")"
      ],
      "text/plain": [
       "<IPython.core.display.Javascript object>"
      ]
     },
     "metadata": {},
     "output_type": "display_data"
    },
    {
     "data": {
      "text/markdown": [
       "<span style=\"color:#33cc33\">Correct</span>"
      ],
      "text/plain": [
       "Correct"
      ]
     },
     "metadata": {},
     "output_type": "display_data"
    },
    {
     "data": {
      "image/png": "[encoded data removed]",
      "text/plain": [
       "<Figure size 416.375x360 with 1 Axes>"
      ]
     },
     "metadata": {
      "needs_background": "light"
     },
     "output_type": "display_data"
    }
   ],
   "source": [
    "# Color-coded scatter plot w/ regression lines\n",
    "sns.lmplot(x=\"pricepercent\", y=\"winpercent\", hue=\"chocolate\", data=candy_data) # Your code here\n",
    "\n",
    "# Check your answer\n",
    "step_6.a.check()"
   ]
  },
  {
   "cell_type": "code",
   "execution_count": 19,
   "id": "7ecca46a",
   "metadata": {
    "execution": {
     "iopub.execute_input": "2021-07-14T15:20:23.488382Z",
     "iopub.status.busy": "2021-07-14T15:20:23.487681Z",
     "iopub.status.idle": "2021-07-14T15:20:23.490644Z",
     "shell.execute_reply": "2021-07-14T15:20:23.491207Z",
     "shell.execute_reply.started": "2021-07-12T09:28:24.012754Z"
    },
    "papermill": {
     "duration": 0.047112,
     "end_time": "2021-07-14T15:20:23.491369",
     "exception": false,
     "start_time": "2021-07-14T15:20:23.444257",
     "status": "completed"
    },
    "tags": []
   },
   "outputs": [],
   "source": [
    "# Lines below will give you a hint or solution code\n",
    "#step_6.a.hint()\n",
    "#step_6.a.solution_plot()"
   ]
  },
  {
   "cell_type": "markdown",
   "id": "9d1003f2",
   "metadata": {
    "papermill": {
     "duration": 0.04061,
     "end_time": "2021-07-14T15:20:23.573773",
     "exception": false,
     "start_time": "2021-07-14T15:20:23.533163",
     "status": "completed"
    },
    "tags": []
   },
   "source": [
    "#### Part B\n",
    "\n",
    "Using the regression lines, what conclusions can you draw about the effects of chocolate and price on candy popularity?"
   ]
  },
  {
   "cell_type": "code",
   "execution_count": 20,
   "id": "f5c7c3fc",
   "metadata": {
    "execution": {
     "iopub.execute_input": "2021-07-14T15:20:23.658115Z",
     "iopub.status.busy": "2021-07-14T15:20:23.657443Z",
     "iopub.status.idle": "2021-07-14T15:20:23.660951Z",
     "shell.execute_reply": "2021-07-14T15:20:23.661451Z",
     "shell.execute_reply.started": "2021-07-12T09:28:28.595506Z"
    },
    "papermill": {
     "duration": 0.04721,
     "end_time": "2021-07-14T15:20:23.661638",
     "exception": false,
     "start_time": "2021-07-14T15:20:23.614428",
     "status": "completed"
    },
    "tags": []
   },
   "outputs": [],
   "source": [
    "#step_6.b.hint()"
   ]
  },
  {
   "cell_type": "code",
   "execution_count": 21,
   "id": "2e608cc0",
   "metadata": {
    "execution": {
     "iopub.execute_input": "2021-07-14T15:20:23.746636Z",
     "iopub.status.busy": "2021-07-14T15:20:23.746019Z",
     "iopub.status.idle": "2021-07-14T15:20:23.752133Z",
     "shell.execute_reply": "2021-07-14T15:20:23.752697Z",
     "shell.execute_reply.started": "2021-07-12T09:28:29.360423Z"
    },
    "papermill": {
     "duration": 0.049699,
     "end_time": "2021-07-14T15:20:23.752869",
     "exception": false,
     "start_time": "2021-07-14T15:20:23.703170",
     "status": "completed"
    },
    "tags": []
   },
   "outputs": [
    {
     "data": {
      "application/javascript": [
       "parent.postMessage({\"jupyterEvent\": \"custom.exercise_interaction\", \"data\": {\"interactionType\": 3, \"questionType\": 4, \"questionId\": \"6.2_ThinkColorReg\", \"learnToolsVersion\": \"0.3.4\", \"valueTowardsCompletion\": 0.0, \"failureMessage\": \"\", \"exceptionClass\": \"\", \"trace\": \"\", \"outcomeType\": 4}}, \"*\")"
      ],
      "text/plain": [
       "<IPython.core.display.Javascript object>"
      ]
     },
     "metadata": {},
     "output_type": "display_data"
    },
    {
     "data": {
      "text/markdown": [
       "<span style=\"color:#33cc99\">Solution:</span> We'll begin with the regression line for chocolate candies. Since this line has a slightly positive slope, we can say that more expensive chocolate candies tend to be more popular (than relatively cheaper chocolate candies).  Likewise, since the regression line for candies without chocolate has a negative slope, we can say that if candies don't contain chocolate, they tend to be more popular when they are cheaper.  One important note, however, is that the dataset is quite small -- so we shouldn't invest too much trust in these patterns!  To inspire more confidence in the results, we should add more candies to the dataset."
      ],
      "text/plain": [
       "Solution: We'll begin with the regression line for chocolate candies. Since this line has a slightly positive slope, we can say that more expensive chocolate candies tend to be more popular (than relatively cheaper chocolate candies).  Likewise, since the regression line for candies without chocolate has a negative slope, we can say that if candies don't contain chocolate, they tend to be more popular when they are cheaper.  One important note, however, is that the dataset is quite small -- so we shouldn't invest too much trust in these patterns!  To inspire more confidence in the results, we should add more candies to the dataset."
      ]
     },
     "metadata": {},
     "output_type": "display_data"
    }
   ],
   "source": [
    "# Check your answer (Run this code cell to receive credit!)\n",
    "step_6.b.solution()"
   ]
  },
  {
   "cell_type": "markdown",
   "id": "3b0b1672",
   "metadata": {
    "papermill": {
     "duration": 0.041137,
     "end_time": "2021-07-14T15:20:23.835213",
     "exception": false,
     "start_time": "2021-07-14T15:20:23.794076",
     "status": "completed"
    },
    "tags": []
   },
   "source": [
    "## Step 7: Everybody loves chocolate.\n",
    "\n",
    "#### Part A\n",
    "\n",
    "Create a categorical scatter plot to highlight the relationship between `'chocolate'` and `'winpercent'`.  Put `'chocolate'` on the (horizontal) x-axis, and `'winpercent'` on the (vertical) y-axis."
   ]
  },
  {
   "cell_type": "code",
   "execution_count": 22,
   "id": "b1336164",
   "metadata": {
    "execution": {
     "iopub.execute_input": "2021-07-14T15:20:23.921411Z",
     "iopub.status.busy": "2021-07-14T15:20:23.920784Z",
     "iopub.status.idle": "2021-07-14T15:20:24.139255Z",
     "shell.execute_reply": "2021-07-14T15:20:24.139857Z",
     "shell.execute_reply.started": "2021-07-12T09:28:54.334323Z"
    },
    "papermill": {
     "duration": 0.263388,
     "end_time": "2021-07-14T15:20:24.140039",
     "exception": false,
     "start_time": "2021-07-14T15:20:23.876651",
     "status": "completed"
    },
    "tags": []
   },
   "outputs": [
    {
     "data": {
      "application/javascript": [
       "parent.postMessage({\"jupyterEvent\": \"custom.exercise_interaction\", \"data\": {\"outcomeType\": 1, \"valueTowardsCompletion\": 0.3333333333333333, \"interactionType\": 1, \"questionType\": 2, \"questionId\": \"7.1_PlotSwarm\", \"learnToolsVersion\": \"0.3.4\", \"failureMessage\": \"\", \"exceptionClass\": \"\", \"trace\": \"\"}}, \"*\")"
      ],
      "text/plain": [
       "<IPython.core.display.Javascript object>"
      ]
     },
     "metadata": {},
     "output_type": "display_data"
    },
    {
     "data": {
      "text/markdown": [
       "<span style=\"color:#33cc33\">Correct</span>"
      ],
      "text/plain": [
       "Correct"
      ]
     },
     "metadata": {},
     "output_type": "display_data"
    },
    {
     "data": {
      "image/png": "[encoded data removed]",
      "text/plain": [
       "<Figure size 432x288 with 1 Axes>"
      ]
     },
     "metadata": {
      "needs_background": "light"
     },
     "output_type": "display_data"
    }
   ],
   "source": [
    "# Scatter plot showing the relationship between 'chocolate' and 'winpercent'\n",
    "sns.swarmplot(x=candy_data['chocolate'], y=candy_data['winpercent']) # Your code here\n",
    "\n",
    "# Check your answer\n",
    "step_7.a.check()"
   ]
  },
  {
   "cell_type": "code",
   "execution_count": 23,
   "id": "b343d667",
   "metadata": {
    "execution": {
     "iopub.execute_input": "2021-07-14T15:20:24.231341Z",
     "iopub.status.busy": "2021-07-14T15:20:24.230718Z",
     "iopub.status.idle": "2021-07-14T15:20:24.233782Z",
     "shell.execute_reply": "2021-07-14T15:20:24.234273Z",
     "shell.execute_reply.started": "2021-07-12T09:29:01.389252Z"
    },
    "papermill": {
     "duration": 0.049772,
     "end_time": "2021-07-14T15:20:24.234437",
     "exception": false,
     "start_time": "2021-07-14T15:20:24.184665",
     "status": "completed"
    },
    "tags": []
   },
   "outputs": [],
   "source": [
    "# Lines below will give you a hint or solution code\n",
    "#step_7.a.hint()\n",
    "#step_7.a.solution_plot()"
   ]
  },
  {
   "cell_type": "markdown",
   "id": "eeec34a6",
   "metadata": {
    "papermill": {
     "duration": 0.043446,
     "end_time": "2021-07-14T15:20:24.322640",
     "exception": false,
     "start_time": "2021-07-14T15:20:24.279194",
     "status": "completed"
    },
    "tags": []
   },
   "source": [
    "#### Part B\n",
    "\n",
    "You decide to dedicate a section of your report to the fact that chocolate candies tend to be more popular than candies without chocolate.  Which plot is more appropriate to tell this story: the plot from **Step 6**, or the plot from **Step 7**?"
   ]
  },
  {
   "cell_type": "code",
   "execution_count": 24,
   "id": "305569b5",
   "metadata": {
    "execution": {
     "iopub.execute_input": "2021-07-14T15:20:24.413851Z",
     "iopub.status.busy": "2021-07-14T15:20:24.413195Z",
     "iopub.status.idle": "2021-07-14T15:20:24.416460Z",
     "shell.execute_reply": "2021-07-14T15:20:24.416986Z",
     "shell.execute_reply.started": "2021-07-12T09:29:13.262797Z"
    },
    "papermill": {
     "duration": 0.05063,
     "end_time": "2021-07-14T15:20:24.417164",
     "exception": false,
     "start_time": "2021-07-14T15:20:24.366534",
     "status": "completed"
    },
    "tags": []
   },
   "outputs": [],
   "source": [
    "#step_7.b.hint()"
   ]
  },
  {
   "cell_type": "code",
   "execution_count": 25,
   "id": "ad39b3a7",
   "metadata": {
    "execution": {
     "iopub.execute_input": "2021-07-14T15:20:24.507918Z",
     "iopub.status.busy": "2021-07-14T15:20:24.507274Z",
     "iopub.status.idle": "2021-07-14T15:20:24.513513Z",
     "shell.execute_reply": "2021-07-14T15:20:24.514103Z",
     "shell.execute_reply.started": "2021-07-12T09:29:13.803057Z"
    },
    "papermill": {
     "duration": 0.053297,
     "end_time": "2021-07-14T15:20:24.514273",
     "exception": false,
     "start_time": "2021-07-14T15:20:24.460976",
     "status": "completed"
    },
    "tags": []
   },
   "outputs": [
    {
     "data": {
      "application/javascript": [
       "parent.postMessage({\"jupyterEvent\": \"custom.exercise_interaction\", \"data\": {\"interactionType\": 3, \"questionType\": 4, \"questionId\": \"7.2_ThinkSwarm\", \"learnToolsVersion\": \"0.3.4\", \"valueTowardsCompletion\": 0.0, \"failureMessage\": \"\", \"exceptionClass\": \"\", \"trace\": \"\", \"outcomeType\": 4}}, \"*\")"
      ],
      "text/plain": [
       "<IPython.core.display.Javascript object>"
      ]
     },
     "metadata": {},
     "output_type": "display_data"
    },
    {
     "data": {
      "text/markdown": [
       "<span style=\"color:#33cc99\">Solution:</span> In this case, the categorical scatter plot from **Step 7** is the more appropriate plot. While both plots tell the desired story, the plot from **Step 6** conveys far more information that could distract from the main point."
      ],
      "text/plain": [
       "Solution: In this case, the categorical scatter plot from **Step 7** is the more appropriate plot. While both plots tell the desired story, the plot from **Step 6** conveys far more information that could distract from the main point."
      ]
     },
     "metadata": {},
     "output_type": "display_data"
    }
   ],
   "source": [
    "# Check your answer (Run this code cell to receive credit!)\n",
    "step_7.b.solution()"
   ]
  },
  {
   "cell_type": "markdown",
   "id": "ca58fb49",
   "metadata": {
    "papermill": {
     "duration": 0.045365,
     "end_time": "2021-07-14T15:20:24.604502",
     "exception": false,
     "start_time": "2021-07-14T15:20:24.559137",
     "status": "completed"
    },
    "tags": []
   },
   "source": [
    "## Keep going\n",
    "\n",
    "Explore **[histograms and density plots](https://www.kaggle.com/alexisbcook/distributions)**."
   ]
  },
  {
   "cell_type": "markdown",
   "id": "53e7d11e",
   "metadata": {
    "papermill": {
     "duration": 0.044397,
     "end_time": "2021-07-14T15:20:24.693704",
     "exception": false,
     "start_time": "2021-07-14T15:20:24.649307",
     "status": "completed"
    },
    "tags": []
   },
   "source": [
    "---\n",
    "\n",
    "\n",
    "\n",
    "\n",
    "*Have questions or comments? Visit the [Learn Discussion forum](https://www.kaggle.com/learn-forum/161291) to chat with other Learners.*"
   ]
  }
 ],
 "metadata": {
  "kernelspec": {
   "display_name": "Python 3",
   "language": "python",
   "name": "python3"
  },
  "language_info": {
   "codemirror_mode": {
    "name": "ipython",
    "version": 3
   },
   "file_extension": ".py",
   "mimetype": "text/x-python",
   "name": "python",
   "nbconvert_exporter": "python",
   "pygments_lexer": "ipython3",
   "version": "3.7.10"
  },
  "papermill": {
   "default_parameters": {},
   "duration": 14.733926,
   "end_time": "2021-07-14T15:20:25.447974",
   "environment_variables": {},
   "exception": null,
   "input_path": "__notebook__.ipynb",
   "output_path": "__notebook__.ipynb",
   "parameters": {},
   "start_time": "2021-07-14T15:20:10.714048",
   "version": "2.3.3"
  }
 },
 "nbformat": 4,
 "nbformat_minor": 5
}
