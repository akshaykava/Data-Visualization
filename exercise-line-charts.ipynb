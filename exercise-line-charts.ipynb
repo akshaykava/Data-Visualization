{
 "cells": [
  {
   "cell_type": "markdown",
   "id": "9f7e5678",
   "metadata": {
    "papermill": {
     "duration": 0.012953,
     "end_time": "2021-07-14T15:19:45.869199",
     "exception": false,
     "start_time": "2021-07-14T15:19:45.856246",
     "status": "completed"
    },
    "tags": []
   },
   "source": [
    "**This notebook is an exercise in the [Data Visualization](https://www.kaggle.com/learn/data-visualization) course.  You can reference the tutorial at [this link](https://www.kaggle.com/alexisbcook/line-charts).**\n",
    "\n",
    "---\n"
   ]
  },
  {
   "cell_type": "markdown",
   "id": "bce64ebb",
   "metadata": {
    "papermill": {
     "duration": 0.01176,
     "end_time": "2021-07-14T15:19:45.893654",
     "exception": false,
     "start_time": "2021-07-14T15:19:45.881894",
     "status": "completed"
    },
    "tags": []
   },
   "source": [
    "In this exercise, you will use your new knowledge to propose a solution to a real-world scenario. To succeed, you will need to import data into Python, answer questions using the data, and generate **line charts** to understand patterns in the data.\n",
    "\n",
    "## Scenario\n",
    "\n",
    "You have recently been hired to manage the museums in the City of Los Angeles. Your first project focuses on the four museums pictured in the images below.\n",
    "\n",
    "![ex1_museums](https://i.imgur.com/pFYL8J1.png)\n",
    "\n",
    "You will leverage data from the Los Angeles [Data Portal](https://data.lacity.org/) that tracks monthly visitors to each museum.  \n",
    "\n",
    "![ex1_xlsx](https://i.imgur.com/mGWYlym.png)\n",
    "\n",
    "## Setup\n",
    "\n",
    "Run the next cell to import and configure the Python libraries that you need to complete the exercise."
   ]
  },
  {
   "cell_type": "code",
   "execution_count": 1,
   "id": "22ab0795",
   "metadata": {
    "execution": {
     "iopub.execute_input": "2021-07-14T15:19:45.920971Z",
     "iopub.status.busy": "2021-07-14T15:19:45.919958Z",
     "iopub.status.idle": "2021-07-14T15:19:46.918746Z",
     "shell.execute_reply": "2021-07-14T15:19:46.919145Z",
     "shell.execute_reply.started": "2021-07-12T08:49:10.330632Z"
    },
    "papermill": {
     "duration": 1.013951,
     "end_time": "2021-07-14T15:19:46.919432",
     "exception": false,
     "start_time": "2021-07-14T15:19:45.905481",
     "status": "completed"
    },
    "tags": []
   },
   "outputs": [
    {
     "name": "stdout",
     "output_type": "stream",
     "text": [
      "Setup Complete\n"
     ]
    }
   ],
   "source": [
    "import pandas as pd\n",
    "pd.plotting.register_matplotlib_converters()\n",
    "import matplotlib.pyplot as plt\n",
    "%matplotlib inline\n",
    "import seaborn as sns\n",
    "print(\"Setup Complete\")"
   ]
  },
  {
   "cell_type": "markdown",
   "id": "c4743215",
   "metadata": {
    "papermill": {
     "duration": 0.011837,
     "end_time": "2021-07-14T15:19:46.943656",
     "exception": false,
     "start_time": "2021-07-14T15:19:46.931819",
     "status": "completed"
    },
    "tags": []
   },
   "source": [
    "The questions below will give you feedback on your work. Run the following cell to set up the feedback system."
   ]
  },
  {
   "cell_type": "code",
   "execution_count": 2,
   "id": "5446c073",
   "metadata": {
    "execution": {
     "iopub.execute_input": "2021-07-14T15:19:46.971530Z",
     "iopub.status.busy": "2021-07-14T15:19:46.970847Z",
     "iopub.status.idle": "2021-07-14T15:19:47.046652Z",
     "shell.execute_reply": "2021-07-14T15:19:47.046128Z",
     "shell.execute_reply.started": "2021-07-12T08:49:11.388585Z"
    },
    "papermill": {
     "duration": 0.090973,
     "end_time": "2021-07-14T15:19:47.046786",
     "exception": false,
     "start_time": "2021-07-14T15:19:46.955813",
     "status": "completed"
    },
    "tags": []
   },
   "outputs": [
    {
     "name": "stdout",
     "output_type": "stream",
     "text": [
      "Setup Complete\n"
     ]
    }
   ],
   "source": [
    "# Set up code checking\n",
    "import os\n",
    "if not os.path.exists(\"../input/museum_visitors.csv\"):\n",
    "    os.symlink(\"../input/data-for-datavis/museum_visitors.csv\", \"../input/museum_visitors.csv\") \n",
    "from learntools.core import binder\n",
    "binder.bind(globals())\n",
    "from learntools.data_viz_to_coder.ex2 import *\n",
    "print(\"Setup Complete\")"
   ]
  },
  {
   "cell_type": "markdown",
   "id": "1e828b4c",
   "metadata": {
    "papermill": {
     "duration": 0.012337,
     "end_time": "2021-07-14T15:19:47.077514",
     "exception": false,
     "start_time": "2021-07-14T15:19:47.065177",
     "status": "completed"
    },
    "tags": []
   },
   "source": [
    "## Step 1: Load the data\n",
    "\n",
    "Your first assignment is to read the LA Museum Visitors data file into `museum_data`.  Note that:\n",
    "- The filepath to the dataset is stored as `museum_filepath`.  Please **do not** change the provided value of the filepath.\n",
    "- The name of the column to use as row labels is `\"Date\"`.  (This can be seen in cell A1 when the file is opened in Excel.)\n",
    "\n",
    "To help with this, you may find it useful to revisit some relevant code from the tutorial, which we have pasted below:\n",
    "\n",
    "```python\n",
    "# Path of the file to read\n",
    "spotify_filepath = \"../input/spotify.csv\"\n",
    "\n",
    "# Read the file into a variable spotify_data\n",
    "spotify_data = pd.read_csv(spotify_filepath, index_col=\"Date\", parse_dates=True)\n",
    "```\n",
    "\n",
    "The code you need to write now looks very similar!"
   ]
  },
  {
   "cell_type": "code",
   "execution_count": 3,
   "id": "f95a9227",
   "metadata": {
    "execution": {
     "iopub.execute_input": "2021-07-14T15:19:47.110072Z",
     "iopub.status.busy": "2021-07-14T15:19:47.109173Z",
     "iopub.status.idle": "2021-07-14T15:19:47.123963Z",
     "shell.execute_reply": "2021-07-14T15:19:47.123377Z",
     "shell.execute_reply.started": "2021-07-12T08:50:22.091604Z"
    },
    "papermill": {
     "duration": 0.034149,
     "end_time": "2021-07-14T15:19:47.124099",
     "exception": false,
     "start_time": "2021-07-14T15:19:47.089950",
     "status": "completed"
    },
    "tags": []
   },
   "outputs": [
    {
     "data": {
      "application/javascript": [
       "parent.postMessage({\"jupyterEvent\": \"custom.exercise_interaction\", \"data\": {\"outcomeType\": 1, \"valueTowardsCompletion\": 0.3333333333333333, \"interactionType\": 1, \"questionType\": 1, \"questionId\": \"1_LoadMuseumData\", \"learnToolsVersion\": \"0.3.4\", \"failureMessage\": \"\", \"exceptionClass\": \"\", \"trace\": \"\"}}, \"*\")"
      ],
      "text/plain": [
       "<IPython.core.display.Javascript object>"
      ]
     },
     "metadata": {},
     "output_type": "display_data"
    },
    {
     "data": {
      "text/markdown": [
       "<span style=\"color:#33cc33\">Correct</span>"
      ],
      "text/plain": [
       "Correct"
      ]
     },
     "metadata": {},
     "output_type": "display_data"
    }
   ],
   "source": [
    "# Path of the file to read\n",
    "museum_filepath = \"../input/museum_visitors.csv\"\n",
    "\n",
    "# Fill in the line below to read the file into a variable museum_data\n",
    "museum_data = pd.read_csv(museum_filepath,index_col=\"Date\", parse_dates=True)\n",
    "\n",
    "# Run the line below with no changes to check that you've loaded the data correctly\n",
    "step_1.check()"
   ]
  },
  {
   "cell_type": "code",
   "execution_count": 4,
   "id": "b609c2b2",
   "metadata": {
    "execution": {
     "iopub.execute_input": "2021-07-14T15:19:47.156092Z",
     "iopub.status.busy": "2021-07-14T15:19:47.155455Z",
     "iopub.status.idle": "2021-07-14T15:19:47.158201Z",
     "shell.execute_reply": "2021-07-14T15:19:47.157714Z"
    },
    "papermill": {
     "duration": 0.020164,
     "end_time": "2021-07-14T15:19:47.158352",
     "exception": false,
     "start_time": "2021-07-14T15:19:47.138188",
     "status": "completed"
    },
    "tags": []
   },
   "outputs": [],
   "source": [
    "# Uncomment the line below to receive a hint\n",
    "#step_1.hint()\n",
    "# Uncomment the line below to see the solution\n",
    "#step_1.solution()"
   ]
  },
  {
   "cell_type": "markdown",
   "id": "c171660b",
   "metadata": {
    "papermill": {
     "duration": 0.013018,
     "end_time": "2021-07-14T15:19:47.184896",
     "exception": false,
     "start_time": "2021-07-14T15:19:47.171878",
     "status": "completed"
    },
    "tags": []
   },
   "source": [
    "## Step 2: Review the data\n",
    "\n",
    "Use a Python command to print the last 5 rows of the data."
   ]
  },
  {
   "cell_type": "code",
   "execution_count": 5,
   "id": "8e0e87e4",
   "metadata": {
    "execution": {
     "iopub.execute_input": "2021-07-14T15:19:47.216203Z",
     "iopub.status.busy": "2021-07-14T15:19:47.215640Z",
     "iopub.status.idle": "2021-07-14T15:19:47.228578Z",
     "shell.execute_reply": "2021-07-14T15:19:47.229058Z",
     "shell.execute_reply.started": "2021-07-12T08:50:49.627846Z"
    },
    "papermill": {
     "duration": 0.031159,
     "end_time": "2021-07-14T15:19:47.229221",
     "exception": false,
     "start_time": "2021-07-14T15:19:47.198062",
     "status": "completed"
    },
    "tags": []
   },
   "outputs": [
    {
     "data": {
      "text/html": [
       "<div>\n",
       "<style scoped>\n",
       "    .dataframe tbody tr th:only-of-type {\n",
       "        vertical-align: middle;\n",
       "    }\n",
       "\n",
       "    .dataframe tbody tr th {\n",
       "        vertical-align: top;\n",
       "    }\n",
       "\n",
       "    .dataframe thead th {\n",
       "        text-align: right;\n",
       "    }\n",
       "</style>\n",
       "<table border=\"1\" class=\"dataframe\">\n",
       "  <thead>\n",
       "    <tr style=\"text-align: right;\">\n",
       "      <th></th>\n",
       "      <th>Avila Adobe</th>\n",
       "      <th>Firehouse Museum</th>\n",
       "      <th>Chinese American Museum</th>\n",
       "      <th>America Tropical Interpretive Center</th>\n",
       "    </tr>\n",
       "    <tr>\n",
       "      <th>Date</th>\n",
       "      <th></th>\n",
       "      <th></th>\n",
       "      <th></th>\n",
       "      <th></th>\n",
       "    </tr>\n",
       "  </thead>\n",
       "  <tbody>\n",
       "    <tr>\n",
       "      <th>2018-07-01</th>\n",
       "      <td>23136</td>\n",
       "      <td>4191</td>\n",
       "      <td>2620</td>\n",
       "      <td>4718</td>\n",
       "    </tr>\n",
       "    <tr>\n",
       "      <th>2018-08-01</th>\n",
       "      <td>20815</td>\n",
       "      <td>4866</td>\n",
       "      <td>2409</td>\n",
       "      <td>3891</td>\n",
       "    </tr>\n",
       "    <tr>\n",
       "      <th>2018-09-01</th>\n",
       "      <td>21020</td>\n",
       "      <td>4956</td>\n",
       "      <td>2146</td>\n",
       "      <td>3180</td>\n",
       "    </tr>\n",
       "    <tr>\n",
       "      <th>2018-10-01</th>\n",
       "      <td>19280</td>\n",
       "      <td>4622</td>\n",
       "      <td>2364</td>\n",
       "      <td>3775</td>\n",
       "    </tr>\n",
       "    <tr>\n",
       "      <th>2018-11-01</th>\n",
       "      <td>17163</td>\n",
       "      <td>4082</td>\n",
       "      <td>2385</td>\n",
       "      <td>4562</td>\n",
       "    </tr>\n",
       "  </tbody>\n",
       "</table>\n",
       "</div>"
      ],
      "text/plain": [
       "            Avila Adobe  Firehouse Museum  Chinese American Museum  \\\n",
       "Date                                                                 \n",
       "2018-07-01        23136              4191                     2620   \n",
       "2018-08-01        20815              4866                     2409   \n",
       "2018-09-01        21020              4956                     2146   \n",
       "2018-10-01        19280              4622                     2364   \n",
       "2018-11-01        17163              4082                     2385   \n",
       "\n",
       "            America Tropical Interpretive Center  \n",
       "Date                                              \n",
       "2018-07-01                                  4718  \n",
       "2018-08-01                                  3891  \n",
       "2018-09-01                                  3180  \n",
       "2018-10-01                                  3775  \n",
       "2018-11-01                                  4562  "
      ]
     },
     "execution_count": 5,
     "metadata": {},
     "output_type": "execute_result"
    }
   ],
   "source": [
    "# Print the last five rows of the data \n",
    "# Your code here\n",
    "museum_data.tail()"
   ]
  },
  {
   "cell_type": "markdown",
   "id": "5a44320f",
   "metadata": {
    "papermill": {
     "duration": 0.013396,
     "end_time": "2021-07-14T15:19:47.256461",
     "exception": false,
     "start_time": "2021-07-14T15:19:47.243065",
     "status": "completed"
    },
    "tags": []
   },
   "source": [
    "The last row (for `2018-11-01`) tracks the number of visitors to each museum in November 2018, the next-to-last row (for `2018-10-01`) tracks the number of visitors to each museum in October 2018, _and so on_.\n",
    "\n",
    "Use the last 5 rows of the data to answer the questions below."
   ]
  },
  {
   "cell_type": "code",
   "execution_count": 6,
   "id": "a71d29c3",
   "metadata": {
    "execution": {
     "iopub.execute_input": "2021-07-14T15:19:47.286379Z",
     "iopub.status.busy": "2021-07-14T15:19:47.285753Z",
     "iopub.status.idle": "2021-07-14T15:19:47.291605Z",
     "shell.execute_reply": "2021-07-14T15:19:47.292070Z",
     "shell.execute_reply.started": "2021-07-12T08:53:22.460232Z"
    },
    "papermill": {
     "duration": 0.022218,
     "end_time": "2021-07-14T15:19:47.292226",
     "exception": false,
     "start_time": "2021-07-14T15:19:47.270008",
     "status": "completed"
    },
    "tags": []
   },
   "outputs": [
    {
     "data": {
      "application/javascript": [
       "parent.postMessage({\"jupyterEvent\": \"custom.exercise_interaction\", \"data\": {\"outcomeType\": 1, \"valueTowardsCompletion\": 0.3333333333333333, \"interactionType\": 1, \"questionType\": 1, \"questionId\": \"2_ReviewData\", \"learnToolsVersion\": \"0.3.4\", \"failureMessage\": \"\", \"exceptionClass\": \"\", \"trace\": \"\"}}, \"*\")"
      ],
      "text/plain": [
       "<IPython.core.display.Javascript object>"
      ]
     },
     "metadata": {},
     "output_type": "display_data"
    },
    {
     "data": {
      "text/markdown": [
       "<span style=\"color:#33cc33\">Correct</span>"
      ],
      "text/plain": [
       "Correct"
      ]
     },
     "metadata": {},
     "output_type": "display_data"
    }
   ],
   "source": [
    "# Fill in the line below: How many visitors did the Chinese American Museum \n",
    "# receive in July 2018?\n",
    "ca_museum_jul18 = 2620\n",
    "\n",
    "# Fill in the line below: In October 2018, how many more visitors did Avila \n",
    "# Adobe receive than the Firehouse Museum?\n",
    "avila_oct18 = 19280-4622\n",
    "\n",
    "# Check your answers\n",
    "step_2.check()"
   ]
  },
  {
   "cell_type": "code",
   "execution_count": 7,
   "id": "cfe84489",
   "metadata": {
    "execution": {
     "iopub.execute_input": "2021-07-14T15:19:47.323845Z",
     "iopub.status.busy": "2021-07-14T15:19:47.323316Z",
     "iopub.status.idle": "2021-07-14T15:19:47.327357Z",
     "shell.execute_reply": "2021-07-14T15:19:47.326885Z"
    },
    "papermill": {
     "duration": 0.020771,
     "end_time": "2021-07-14T15:19:47.327482",
     "exception": false,
     "start_time": "2021-07-14T15:19:47.306711",
     "status": "completed"
    },
    "tags": []
   },
   "outputs": [],
   "source": [
    "# Lines below will give you a hint or solution code\n",
    "#step_2.hint()\n",
    "#step_2.solution()"
   ]
  },
  {
   "cell_type": "markdown",
   "id": "9f607c8b",
   "metadata": {
    "papermill": {
     "duration": 0.014142,
     "end_time": "2021-07-14T15:19:47.356055",
     "exception": false,
     "start_time": "2021-07-14T15:19:47.341913",
     "status": "completed"
    },
    "tags": []
   },
   "source": [
    "## Step 3: Convince the museum board \n",
    "\n",
    "The Firehouse Museum claims they ran an event in 2014 that brought an incredible number of visitors, and that they should get extra budget to run a similar event again.  The other museums think these types of events aren't that important, and budgets should be split purely based on recent visitors on an average day.  \n",
    "\n",
    "To show the museum board how the event compared to regular traffic at each museum, create a line chart that shows how the number of visitors to each museum evolved over time.  Your figure should have four lines (one for each museum).\n",
    "\n",
    "> **(Optional) Note**: If you have some prior experience with plotting figures in Python, you might be familiar with the `plt.show()` command.  If you decide to use this command, please place it **after** the line of code that checks your answer (in this case, place it after `step_3.check()` below) -- otherwise, the checking code will return an error!"
   ]
  },
  {
   "cell_type": "code",
   "execution_count": 8,
   "id": "3565dfdc",
   "metadata": {
    "execution": {
     "iopub.execute_input": "2021-07-14T15:19:47.389701Z",
     "iopub.status.busy": "2021-07-14T15:19:47.389085Z",
     "iopub.status.idle": "2021-07-14T15:19:47.755498Z",
     "shell.execute_reply": "2021-07-14T15:19:47.754952Z",
     "shell.execute_reply.started": "2021-07-12T08:54:29.410531Z"
    },
    "papermill": {
     "duration": 0.38523,
     "end_time": "2021-07-14T15:19:47.755631",
     "exception": false,
     "start_time": "2021-07-14T15:19:47.370401",
     "status": "completed"
    },
    "tags": []
   },
   "outputs": [
    {
     "data": {
      "application/javascript": [
       "parent.postMessage({\"jupyterEvent\": \"custom.exercise_interaction\", \"data\": {\"outcomeType\": 1, \"valueTowardsCompletion\": 0.3333333333333333, \"interactionType\": 1, \"questionType\": 2, \"questionId\": \"3_PlotAll\", \"learnToolsVersion\": \"0.3.4\", \"failureMessage\": \"\", \"exceptionClass\": \"\", \"trace\": \"\"}}, \"*\")"
      ],
      "text/plain": [
       "<IPython.core.display.Javascript object>"
      ]
     },
     "metadata": {},
     "output_type": "display_data"
    },
    {
     "data": {
      "text/markdown": [
       "<span style=\"color:#33cc33\">Correct</span>"
      ],
      "text/plain": [
       "Correct"
      ]
     },
     "metadata": {},
     "output_type": "display_data"
    },
    {
     "data": {
      "image/png": "[encoded data removed]",
      "text/plain": [
       "<Figure size 432x288 with 1 Axes>"
      ]
     },
     "metadata": {
      "needs_background": "light"
     },
     "output_type": "display_data"
    }
   ],
   "source": [
    "# Line chart showing the number of visitors to each museum over time\n",
    "____ # Your code here\n",
    "sns.lineplot(data=museum_data)\n",
    "# Check your answer\n",
    "step_3.check()"
   ]
  },
  {
   "cell_type": "code",
   "execution_count": 9,
   "id": "a78e0acb",
   "metadata": {
    "execution": {
     "iopub.execute_input": "2021-07-14T15:19:47.794431Z",
     "iopub.status.busy": "2021-07-14T15:19:47.793533Z",
     "iopub.status.idle": "2021-07-14T15:19:47.796393Z",
     "shell.execute_reply": "2021-07-14T15:19:47.795871Z"
    },
    "papermill": {
     "duration": 0.024004,
     "end_time": "2021-07-14T15:19:47.796521",
     "exception": false,
     "start_time": "2021-07-14T15:19:47.772517",
     "status": "completed"
    },
    "tags": []
   },
   "outputs": [],
   "source": [
    "# Lines below will give you a hint or solution code\n",
    "#step_3.hint()\n",
    "#step_3.solution_plot()"
   ]
  },
  {
   "cell_type": "markdown",
   "id": "9d4bda10",
   "metadata": {
    "papermill": {
     "duration": 0.016757,
     "end_time": "2021-07-14T15:19:47.830425",
     "exception": false,
     "start_time": "2021-07-14T15:19:47.813668",
     "status": "completed"
    },
    "tags": []
   },
   "source": [
    "## Step 4: Assess seasonality\n",
    "\n",
    "When meeting with the employees at Avila Adobe, you hear that one major pain point is that the number of museum visitors varies greatly with the seasons, with low seasons (when the employees are perfectly staffed and happy) and also high seasons (when the employees are understaffed and stressed).  You realize that if you can predict these high and low seasons, you can plan ahead to hire some additional seasonal employees to help out with the extra work.\n",
    "\n",
    "#### Part A\n",
    "Create a line chart that shows how the number of visitors to Avila Adobe has evolved over time.  (_If your code returns an error, the first thing that you should check is that you've spelled the name of the column correctly!  You must write the name of the column exactly as it appears in the dataset._)"
   ]
  },
  {
   "cell_type": "code",
   "execution_count": 10,
   "id": "fcccd72d",
   "metadata": {
    "execution": {
     "iopub.execute_input": "2021-07-14T15:19:47.886469Z",
     "iopub.status.busy": "2021-07-14T15:19:47.884392Z",
     "iopub.status.idle": "2021-07-14T15:19:48.073710Z",
     "shell.execute_reply": "2021-07-14T15:19:48.073193Z",
     "shell.execute_reply.started": "2021-07-12T08:56:08.903691Z"
    },
    "papermill": {
     "duration": 0.22659,
     "end_time": "2021-07-14T15:19:48.073859",
     "exception": false,
     "start_time": "2021-07-14T15:19:47.847269",
     "status": "completed"
    },
    "tags": []
   },
   "outputs": [
    {
     "name": "stdout",
     "output_type": "stream",
     "text": [
      "Thank you for creating a line chart!  To see how your code compares to the official solution, please use the code cell below.\n"
     ]
    },
    {
     "data": {
      "application/javascript": [
       "parent.postMessage({\"jupyterEvent\": \"custom.exercise_interaction\", \"data\": {\"outcomeType\": 1, \"valueTowardsCompletion\": 0.3333333333333333, \"interactionType\": 1, \"questionType\": 2, \"questionId\": \"4.1_PlotAvila\", \"learnToolsVersion\": \"0.3.4\", \"failureMessage\": \"\", \"exceptionClass\": \"\", \"trace\": \"\"}}, \"*\")"
      ],
      "text/plain": [
       "<IPython.core.display.Javascript object>"
      ]
     },
     "metadata": {},
     "output_type": "display_data"
    },
    {
     "data": {
      "text/markdown": [
       "<span style=\"color:#33cc33\">Correct</span>"
      ],
      "text/plain": [
       "Correct"
      ]
     },
     "metadata": {},
     "output_type": "display_data"
    },
    {
     "data": {
      "image/png": "[encoded data removed]",
      "text/plain": [
       "<Figure size 1008x432 with 1 Axes>"
      ]
     },
     "metadata": {
      "needs_background": "light"
     },
     "output_type": "display_data"
    }
   ],
   "source": [
    "# Line plot showing the number of visitors to Avila Adobe over time\n",
    "____ # Your code here\n",
    "# Set the width and height of the figure\n",
    "plt.figure(figsize=(14,6))\n",
    "\n",
    "# Add title\n",
    "plt.title(\"number of visitors to Avila Adobe over time\")\n",
    "\n",
    "# Line chart showing daily global streams of each song \n",
    "sns.lineplot(data=museum_data['Avila Adobe'])\n",
    "# Check your answer\n",
    "step_4.a.check()"
   ]
  },
  {
   "cell_type": "code",
   "execution_count": 11,
   "id": "d8ddc3c7",
   "metadata": {
    "execution": {
     "iopub.execute_input": "2021-07-14T15:19:48.116729Z",
     "iopub.status.busy": "2021-07-14T15:19:48.116181Z",
     "iopub.status.idle": "2021-07-14T15:19:48.118427Z",
     "shell.execute_reply": "2021-07-14T15:19:48.118814Z"
    },
    "papermill": {
     "duration": 0.025392,
     "end_time": "2021-07-14T15:19:48.118972",
     "exception": false,
     "start_time": "2021-07-14T15:19:48.093580",
     "status": "completed"
    },
    "tags": []
   },
   "outputs": [],
   "source": [
    "# Lines below will give you a hint or solution code\n",
    "#step_4.a.hint()\n",
    "#step_4.a.solution_plot()"
   ]
  },
  {
   "cell_type": "markdown",
   "id": "296fd93c",
   "metadata": {
    "papermill": {
     "duration": 0.018985,
     "end_time": "2021-07-14T15:19:48.158778",
     "exception": false,
     "start_time": "2021-07-14T15:19:48.139793",
     "status": "completed"
    },
    "tags": []
   },
   "source": [
    "#### Part B\n",
    "\n",
    "Does Avila Adobe get more visitors:\n",
    "- in September-February (in LA, the fall and winter months), or \n",
    "- in March-August (in LA, the spring and summer)?  \n",
    "\n",
    "Using this information, when should the museum staff additional seasonal employees?"
   ]
  },
  {
   "cell_type": "code",
   "execution_count": 12,
   "id": "04cf81d4",
   "metadata": {
    "execution": {
     "iopub.execute_input": "2021-07-14T15:19:48.201101Z",
     "iopub.status.busy": "2021-07-14T15:19:48.200524Z",
     "iopub.status.idle": "2021-07-14T15:19:48.203234Z",
     "shell.execute_reply": "2021-07-14T15:19:48.203698Z"
    },
    "papermill": {
     "duration": 0.025923,
     "end_time": "2021-07-14T15:19:48.203869",
     "exception": false,
     "start_time": "2021-07-14T15:19:48.177946",
     "status": "completed"
    },
    "tags": []
   },
   "outputs": [],
   "source": [
    "#step_4.b.hint()"
   ]
  },
  {
   "cell_type": "code",
   "execution_count": 13,
   "id": "b30b2377",
   "metadata": {
    "execution": {
     "iopub.execute_input": "2021-07-14T15:19:48.247907Z",
     "iopub.status.busy": "2021-07-14T15:19:48.247322Z",
     "iopub.status.idle": "2021-07-14T15:19:48.251180Z",
     "shell.execute_reply": "2021-07-14T15:19:48.251745Z",
     "shell.execute_reply.started": "2021-07-12T08:56:32.091964Z"
    },
    "papermill": {
     "duration": 0.028328,
     "end_time": "2021-07-14T15:19:48.251940",
     "exception": false,
     "start_time": "2021-07-14T15:19:48.223612",
     "status": "completed"
    },
    "tags": []
   },
   "outputs": [
    {
     "data": {
      "application/javascript": [
       "parent.postMessage({\"jupyterEvent\": \"custom.exercise_interaction\", \"data\": {\"interactionType\": 3, \"questionType\": 4, \"questionId\": \"4.2_ThinkAvila\", \"learnToolsVersion\": \"0.3.4\", \"valueTowardsCompletion\": 0.0, \"failureMessage\": \"\", \"exceptionClass\": \"\", \"trace\": \"\", \"outcomeType\": 4}}, \"*\")"
      ],
      "text/plain": [
       "<IPython.core.display.Javascript object>"
      ]
     },
     "metadata": {},
     "output_type": "display_data"
    },
    {
     "data": {
      "text/markdown": [
       "<span style=\"color:#33cc99\">Solution:</span> The line chart generally dips to relatively low values around the early part of each year (in December and January), and reaches its highest values in the middle of the year (especially around May and June).  Thus, Avila Adobe usually gets more visitors in March-August (or the spring and summer months).  With this in mind, Avila Adobe could definitely benefit from hiring more seasonal employees to help with the extra work in March-August (the spring and summer)!"
      ],
      "text/plain": [
       "Solution: The line chart generally dips to relatively low values around the early part of each year (in December and January), and reaches its highest values in the middle of the year (especially around May and June).  Thus, Avila Adobe usually gets more visitors in March-August (or the spring and summer months).  With this in mind, Avila Adobe could definitely benefit from hiring more seasonal employees to help with the extra work in March-August (the spring and summer)!"
      ]
     },
     "metadata": {},
     "output_type": "display_data"
    }
   ],
   "source": [
    "# Check your answer (Run this code cell to receive credit!)\n",
    "step_4.b.solution()"
   ]
  },
  {
   "cell_type": "markdown",
   "id": "745536e0",
   "metadata": {
    "papermill": {
     "duration": 0.019791,
     "end_time": "2021-07-14T15:19:48.292248",
     "exception": false,
     "start_time": "2021-07-14T15:19:48.272457",
     "status": "completed"
    },
    "tags": []
   },
   "source": [
    "# Keep going\n",
    "\n",
    "Move on to learn about **[bar charts and heatmaps](https://www.kaggle.com/alexisbcook/bar-charts-and-heatmaps)** with a new dataset!"
   ]
  },
  {
   "cell_type": "markdown",
   "id": "a65b2942",
   "metadata": {
    "papermill": {
     "duration": 0.019962,
     "end_time": "2021-07-14T15:19:48.332485",
     "exception": false,
     "start_time": "2021-07-14T15:19:48.312523",
     "status": "completed"
    },
    "tags": []
   },
   "source": [
    "---\n",
    "\n",
    "\n",
    "\n",
    "\n",
    "*Have questions or comments? Visit the [Learn Discussion forum](https://www.kaggle.com/learn-forum/161291) to chat with other Learners.*"
   ]
  }
 ],
 "metadata": {
  "kernelspec": {
   "display_name": "Python 3",
   "language": "python",
   "name": "python3"
  },
  "language_info": {
   "codemirror_mode": {
    "name": "ipython",
    "version": 3
   },
   "file_extension": ".py",
   "mimetype": "text/x-python",
   "name": "python",
   "nbconvert_exporter": "python",
   "pygments_lexer": "ipython3",
   "version": "3.7.10"
  },
  "papermill": {
   "default_parameters": {},
   "duration": 10.375861,
   "end_time": "2021-07-14T15:19:49.062153",
   "environment_variables": {},
   "exception": null,
   "input_path": "__notebook__.ipynb",
   "output_path": "__notebook__.ipynb",
   "parameters": {},
   "start_time": "2021-07-14T15:19:38.686292",
   "version": "2.3.3"
  }
 },
 "nbformat": 4,
 "nbformat_minor": 5
}
